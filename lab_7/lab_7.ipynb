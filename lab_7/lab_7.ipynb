{
 "cells": [
  {
   "cell_type": "code",
   "execution_count": 27,
   "metadata": {},
   "outputs": [],
   "source": [
    "import numpy as np\n",
    "import pandas as pd\n",
    "import matplotlib.pyplot as plt\n",
    "\n",
    "from sklearn.preprocessing import LabelEncoder, StandardScaler\n",
    "from sklearn.model_selection import train_test_split\n",
    "from sklearn.metrics import f1_score\n",
    "from sklearn.neighbors import KNeighborsClassifier\n",
    "from sklearn.ensemble import RandomForestClassifier\n",
    "from sklearn.linear_model import LogisticRegression\n",
    "\n",
    "from xgboost import XGBClassifier"
   ]
  },
  {
   "cell_type": "code",
   "execution_count": 28,
   "metadata": {},
   "outputs": [
    {
     "name": "stdout",
     "output_type": "stream",
     "text": [
      "Index(['PassengerId', 'HomePlanet', 'CryoSleep', 'Cabin', 'Destination', 'Age',\n",
      "       'VIP', 'RoomService', 'FoodCourt', 'ShoppingMall', 'Spa', 'VRDeck',\n",
      "       'Name', 'Transported'],\n",
      "      dtype='object')\n"
     ]
    }
   ],
   "source": [
    "data = pd.read_csv('spaceship_titanic.csv').dropna()\n",
    "data = data.reset_index(drop=True)\n",
    "print(data.columns)"
   ]
  },
  {
   "cell_type": "code",
   "execution_count": 29,
   "metadata": {},
   "outputs": [
    {
     "name": "stdout",
     "output_type": "stream",
     "text": [
      "      HomePlanet  CryoSleep  Destination       Age       VIP  RoomService  \\\n",
      "0       0.659892   0.332709     0.466783  0.695413  0.506983    -0.345756   \n",
      "1       0.425687   0.332709     0.466783 -0.336769  0.506983    -0.176748   \n",
      "2       0.659892   0.332709     0.466783  2.002842  0.370370    -0.279083   \n",
      "3       0.659892   0.332709     0.466783  0.282540  0.506983    -0.345756   \n",
      "4       0.425687   0.332709     0.466783 -0.887266  0.506983     0.124056   \n",
      "...          ...        ...          ...       ...       ...          ...   \n",
      "6601    0.659892   0.332709     0.622601  0.833037  0.370370    -0.345756   \n",
      "6602    0.425687   0.816895     0.505618 -0.749641  0.506983    -0.345756   \n",
      "6603    0.425687   0.332709     0.466783 -0.199145  0.506983    -0.345756   \n",
      "6604    0.659892   0.332709     0.622601  0.213728  0.506983    -0.345756   \n",
      "6605    0.659892   0.332709     0.466783  1.039473  0.506983    -0.150389   \n",
      "\n",
      "      FoodCourt  ShoppingMall       Spa    VRDeck  Transported  \n",
      "0     -0.285355     -0.309494 -0.273759 -0.269534            0  \n",
      "1     -0.279993     -0.266112  0.206165 -0.230494            1  \n",
      "2      1.845163     -0.309494  5.596357 -0.226058            0  \n",
      "3      0.479034      0.334285  2.636384 -0.098291            0  \n",
      "4     -0.243650     -0.047470  0.220152 -0.267759            1  \n",
      "...         ...           ...       ...       ...          ...  \n",
      "6601   3.777285     -0.309494  1.162518 -0.203876            0  \n",
      "6602  -0.285355     -0.309494 -0.273759 -0.269534            0  \n",
      "6603  -0.285355      2.938900 -0.272885 -0.269534            1  \n",
      "6604   0.339621     -0.309494  0.034826  2.600774            0  \n",
      "6605   2.507673     -0.309494 -0.273759 -0.258887            1  \n",
      "\n",
      "[6606 rows x 11 columns]\n"
     ]
    }
   ],
   "source": [
    "data = data.drop(['PassengerId', 'Name', 'Cabin'], axis=1)\n",
    "\n",
    "categorical_features = ['HomePlanet', 'CryoSleep', \n",
    "                        'Destination', 'VIP']\n",
    "numeric_features = ['Age', 'RoomService', 'FoodCourt', \n",
    "                    'ShoppingMall', 'Spa', 'VRDeck']\n",
    "\n",
    "data['Transported'] = LabelEncoder().fit_transform(data['Transported'])\n",
    "\n",
    "# Числовые признаки\n",
    "scaler = StandardScaler()\n",
    "data[numeric_features] = scaler.fit_transform(data[numeric_features])\n",
    "\n",
    "# Категориальные признаки\n",
    "for feature in categorical_features:\n",
    "    for unique_value in data[feature].unique():\n",
    "        data[feature].mask(data[feature] == unique_value,\n",
    "                           data.loc[data[feature] == unique_value, 'Transported'].mean(),\n",
    "                           inplace=True)\n",
    "    data[feature] = data[feature].astype(float)\n",
    "\n",
    "print(data)"
   ]
  },
  {
   "cell_type": "code",
   "execution_count": 30,
   "metadata": {},
   "outputs": [],
   "source": [
    "x = data.drop(['Transported'], axis=1)\n",
    "y = data['Transported']\n",
    "\n",
    "x_train, x_test, y_train, y_test = train_test_split(\n",
    "    x, y, test_size=0.2, random_state=1)"
   ]
  },
  {
   "cell_type": "code",
   "execution_count": 31,
   "metadata": {},
   "outputs": [
    {
     "name": "stdout",
     "output_type": "stream",
     "text": [
      "KNN: 0.7683109118086696\n",
      "Random forest: 0.7941605839416058\n",
      "Logistic Regression: 0.8063583815028902\n"
     ]
    }
   ],
   "source": [
    "knn = KNeighborsClassifier(n_neighbors=3)\n",
    "rf = RandomForestClassifier(max_depth=6, n_estimators=50)\n",
    "logreg = LogisticRegression(random_state=1)\n",
    "\n",
    "knn.fit(x_train, y_train)\n",
    "rf.fit(x_train, y_train)\n",
    "logreg.fit(x_train, y_train)\n",
    "\n",
    "print('KNN: {}'.format(f1_score(y_test, knn.predict(x_test))))\n",
    "print('Random forest: {}'.format(f1_score(y_test, rf.predict(x_test))))\n",
    "print('Logistic Regression: {}'.format(f1_score(y_test, logreg.predict(x_test))))"
   ]
  },
  {
   "cell_type": "markdown",
   "metadata": {},
   "source": [
    "### **Блендинг**"
   ]
  },
  {
   "cell_type": "code",
   "execution_count": 32,
   "metadata": {},
   "outputs": [],
   "source": [
    "class Blender:\n",
    "    def __init__(self, base_models, meta_alg):\n",
    "        self.models = base_models\n",
    "        self.meta_alg = meta_alg\n",
    "    \n",
    "    def fit(self, x_train, y_train):\n",
    "        x_train_base, x_train_meta, y_train_base, y_train_meta = train_test_split(\n",
    "            x_train, y_train, test_size=0.3, random_state=2)\n",
    "        \n",
    "        train_meta_features = []\n",
    "        for base_model in self.models:\n",
    "            base_model.fit(x_train_base, y_train_base)\n",
    "            base_model_predict = base_model.predict(x_train_meta)\n",
    "            train_meta_features.append(base_model_predict)\n",
    "\n",
    "        ready_train_meta_features = pd.Series(train_meta_features[0])\n",
    "        for meta_feature in train_meta_features[1:]:\n",
    "            ready_train_meta_features = pd.concat([ready_train_meta_features, pd.Series(meta_feature)], axis=1)\n",
    "        ready_train_meta_features.columns = [str(i + 1) for i in range(len(train_meta_features))]\n",
    "\n",
    "        self.meta_alg.fit(ready_train_meta_features, y_train_meta)\n",
    "    \n",
    "    def predict(self, x_test):\n",
    "        test_meta_features = []\n",
    "        for base_model in self.models:\n",
    "            base_model_predict = base_model.predict(x_test)\n",
    "            test_meta_features.append(base_model_predict)\n",
    "\n",
    "        ready_test_meta_features = pd.Series(test_meta_features[0])\n",
    "        for meta_feature in test_meta_features[1:]:\n",
    "            ready_test_meta_features = pd.concat([ready_test_meta_features, pd.Series(meta_feature)], axis=1)\n",
    "        ready_test_meta_features.columns = [str(i + 1) for i in range(len(test_meta_features))]\n",
    "\n",
    "        return self.meta_alg.predict(ready_test_meta_features)"
   ]
  },
  {
   "cell_type": "markdown",
   "metadata": {},
   "source": [
    "**Базовые и мета- алгоритмы**"
   ]
  },
  {
   "cell_type": "code",
   "execution_count": 33,
   "metadata": {},
   "outputs": [],
   "source": [
    "knn_model = KNeighborsClassifier(n_neighbors=3)\n",
    "rf_model = RandomForestClassifier(max_depth=6, n_estimators=50)\n",
    "logreg_model = LogisticRegression(random_state=1)\n",
    "\n",
    "models = [knn_model, rf_model, logreg_model]\n",
    "\n",
    "meta_alg = XGBClassifier(n_estimators=100, max_depth=3)"
   ]
  },
  {
   "cell_type": "markdown",
   "metadata": {},
   "source": [
    "**Создаем и обучаем \"blender\"**"
   ]
  },
  {
   "cell_type": "code",
   "execution_count": 34,
   "metadata": {},
   "outputs": [],
   "source": [
    "blender = Blender(models.copy(), meta_alg)\n",
    "blender.fit(x_train, y_train)"
   ]
  },
  {
   "cell_type": "markdown",
   "metadata": {},
   "source": [
    "**Посмотрим на результат**"
   ]
  },
  {
   "cell_type": "code",
   "execution_count": 35,
   "metadata": {},
   "outputs": [
    {
     "name": "stdout",
     "output_type": "stream",
     "text": [
      "Blending: 0.8063354931605473\n"
     ]
    }
   ],
   "source": [
    "blender_predict = blender.predict(x_test)\n",
    "\n",
    "print('Blending: {}'.format(f1_score(y_test, blender_predict)))"
   ]
  },
  {
   "cell_type": "markdown",
   "metadata": {},
   "source": [
    "**Теперь попробуем усредненный blending**"
   ]
  },
  {
   "cell_type": "code",
   "execution_count": 36,
   "metadata": {},
   "outputs": [
    {
     "name": "stdout",
     "output_type": "stream",
     "text": [
      "Averaged Blending: 0.8054558506819813\n"
     ]
    }
   ],
   "source": [
    "blenders = [Blender(models.copy(), XGBClassifier(n_estimators=100, max_depth=3)),\n",
    "            Blender(models.copy(), XGBClassifier(n_estimators=100, max_depth=3)),\n",
    "            Blender(models.copy(), XGBClassifier(n_estimators=100, max_depth=3)),\n",
    "            Blender(models.copy(), XGBClassifier(n_estimators=100, max_depth=3)),\n",
    "            Blender(models.copy(), XGBClassifier(n_estimators=100, max_depth=3))]\n",
    "\n",
    "results = []\n",
    "for blender in blenders:\n",
    "    blender.fit(x_train, y_train)\n",
    "    results.append(blender.predict(x_test))\n",
    "\n",
    "result_predict = np.mean(np.array(results), axis=0)\n",
    "result_predict = np.array(list(map(lambda x: 1 if x >= 0.5 else 0, result_predict)))\n",
    "\n",
    "print('Averaged Blending: {}'.format(f1_score(y_test, result_predict)))"
   ]
  },
  {
   "cell_type": "code",
   "execution_count": 37,
   "metadata": {},
   "outputs": [],
   "source": [
    "from sklearn.calibration import cross_val_predict\n",
    "from sklearn.base import BaseEstimator, ClassifierMixin\n",
    "\n",
    "class Stacker(BaseEstimator, ClassifierMixin):\n",
    "    def __init__(self, models, ens_model):\n",
    "        self.models = models\n",
    "        self.ens_model = ens_model\n",
    "        self.n = len(models)\n",
    "        self.valid = None\n",
    "    \n",
    "    def fit(self, x, y=None, cv=3, err=0.001):\n",
    "        self.valid = err * np.random.randn(x.shape[0], self.n)\n",
    "        \n",
    "        for t, clf in enumerate(self.models):\n",
    "            self.valid[:, t] += cross_val_predict(clf, x, y, cv=cv, n_jobs=-1, method='predict')\n",
    "            clf.fit(x, y)\n",
    "        \n",
    "        self.ens_model.fit(self.valid, y)  \n",
    "            \n",
    "        return self\n",
    "    \n",
    "    def predict(self, X, y=None):\n",
    "        X_meta = np.zeros((X.shape[0], self.n))\n",
    "        \n",
    "        for t, clf in enumerate(self.models):\n",
    "            X_meta[:, t] = clf.predict(X)\n",
    "        \n",
    "        a = self.ens_model.predict(X_meta)\n",
    "        \n",
    "        return a"
   ]
  },
  {
   "cell_type": "code",
   "execution_count": 38,
   "metadata": {},
   "outputs": [
    {
     "name": "stdout",
     "output_type": "stream",
     "text": [
      "F1-score on stacking: 0.7713147410358566\n"
     ]
    }
   ],
   "source": [
    "ens_model = XGBClassifier()\n",
    "s1 = Stacker(models, ens_model)\n",
    "s1.fit(x_train, y_train)\n",
    "\n",
    "print('F1-score on stacking: {}'.format(f1_score(y_test, s1.predict(x_test))))"
   ]
  }
 ],
 "metadata": {
  "kernelspec": {
   "display_name": "Python 3",
   "language": "python",
   "name": "python3"
  },
  "language_info": {
   "codemirror_mode": {
    "name": "ipython",
    "version": 3
   },
   "file_extension": ".py",
   "mimetype": "text/x-python",
   "name": "python",
   "nbconvert_exporter": "python",
   "pygments_lexer": "ipython3",
   "version": "3.11.5"
  }
 },
 "nbformat": 4,
 "nbformat_minor": 2
}
