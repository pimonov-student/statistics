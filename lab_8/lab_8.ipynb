{
 "cells": [
  {
   "cell_type": "markdown",
   "metadata": {},
   "source": [
    "**Необходимые импорты**"
   ]
  },
  {
   "cell_type": "code",
   "execution_count": 164,
   "metadata": {},
   "outputs": [],
   "source": [
    "import numpy as np\n",
    "import pandas as pd\n",
    "\n",
    "import torch\n",
    "import torch.nn as nn\n",
    "import torch.optim as optim\n",
    "from torch.utils.data import DataLoader, TensorDataset\n",
    "\n",
    "from sklearn.preprocessing import LabelEncoder, StandardScaler\n",
    "from sklearn.model_selection import train_test_split\n",
    "from sklearn.metrics import accuracy_score\n",
    "\n",
    "import xgboost as xgb"
   ]
  },
  {
   "cell_type": "markdown",
   "metadata": {},
   "source": [
    "**Загружаем датасет**"
   ]
  },
  {
   "cell_type": "code",
   "execution_count": 165,
   "metadata": {},
   "outputs": [
    {
     "name": "stdout",
     "output_type": "stream",
     "text": [
      "Index(['PassengerId', 'HomePlanet', 'CryoSleep', 'Cabin', 'Destination', 'Age',\n",
      "       'VIP', 'RoomService', 'FoodCourt', 'ShoppingMall', 'Spa', 'VRDeck',\n",
      "       'Name', 'Transported'],\n",
      "      dtype='object')\n"
     ]
    }
   ],
   "source": [
    "data = pd.read_csv('spaceship_titanic.csv').dropna()\n",
    "print(data.columns)"
   ]
  },
  {
   "cell_type": "markdown",
   "metadata": {},
   "source": [
    "**Обрабатываем датасет**"
   ]
  },
  {
   "cell_type": "code",
   "execution_count": 166,
   "metadata": {},
   "outputs": [
    {
     "name": "stdout",
     "output_type": "stream",
     "text": [
      "      HomePlanet  CryoSleep  Cabin  Destination       Age  VIP  RoomService  \\\n",
      "0              1          0    137            2  0.695413    0    -0.345756   \n",
      "1              0          0   1823            2 -0.336769    0    -0.176748   \n",
      "2              1          0      1            2  2.002842    1    -0.279083   \n",
      "3              1          0      1            2  0.282540    0    -0.345756   \n",
      "4              0          0   1825            2 -0.887266    0     0.124056   \n",
      "...          ...        ...    ...          ...       ...  ...          ...   \n",
      "8688           1          0    134            0  0.833037    1    -0.345756   \n",
      "8689           0          1   4293            1 -0.749641    0    -0.345756   \n",
      "8690           0          0   4298            2 -0.199145    0    -0.345756   \n",
      "8691           1          0   1778            0  0.213728    0    -0.345756   \n",
      "8692           1          0   1778            2  1.039473    0    -0.150389   \n",
      "\n",
      "      FoodCourt  ShoppingMall       Spa    VRDeck  Transported  \n",
      "0     -0.285355     -0.309494 -0.273759 -0.269534            0  \n",
      "1     -0.279993     -0.266112  0.206165 -0.230494            1  \n",
      "2      1.845163     -0.309494  5.596357 -0.226058            0  \n",
      "3      0.479034      0.334285  2.636384 -0.098291            0  \n",
      "4     -0.243650     -0.047470  0.220152 -0.267759            1  \n",
      "...         ...           ...       ...       ...          ...  \n",
      "8688   3.777285     -0.309494  1.162518 -0.203876            0  \n",
      "8689  -0.285355     -0.309494 -0.273759 -0.269534            0  \n",
      "8690  -0.285355      2.938900 -0.272885 -0.269534            1  \n",
      "8691   0.339621     -0.309494  0.034826  2.600774            0  \n",
      "8692   2.507673     -0.309494 -0.273759 -0.258887            1  \n",
      "\n",
      "[6606 rows x 12 columns]\n"
     ]
    }
   ],
   "source": [
    "data = data.drop(['PassengerId', 'Name'], axis=1)\n",
    "\n",
    "categorical_features = ['HomePlanet', 'CryoSleep', 'Cabin', \n",
    "                     'Destination', 'VIP', 'Transported']\n",
    "numeric_features = ['Age', 'RoomService', 'FoodCourt', \n",
    "                    'ShoppingMall', 'Spa', 'VRDeck']\n",
    "\n",
    "# Категориальные признаки\n",
    "for feature in categorical_features:\n",
    "    label_encoder = LabelEncoder()\n",
    "    data[feature] = label_encoder.fit_transform(data[feature])\n",
    "\n",
    "# Числовые признаки\n",
    "scaler = StandardScaler()\n",
    "data[numeric_features] = scaler.fit_transform(data[numeric_features])\n",
    "\n",
    "print(data)"
   ]
  },
  {
   "cell_type": "markdown",
   "metadata": {},
   "source": [
    "**Подготавливаем к обучению, делим на train и test**"
   ]
  },
  {
   "cell_type": "code",
   "execution_count": 167,
   "metadata": {},
   "outputs": [],
   "source": [
    "x = data.drop(['Transported'], axis=1)\n",
    "y = data['Transported']\n",
    "\n",
    "x = torch.Tensor(x.values)\n",
    "y = torch.Tensor(y.values)\n",
    "\n",
    "x_train, x_test, y_train, y_test = train_test_split(x, y, test_size=0.2, random_state=1)"
   ]
  },
  {
   "cell_type": "markdown",
   "metadata": {},
   "source": [
    "**Torch штуки**"
   ]
  },
  {
   "cell_type": "code",
   "execution_count": 168,
   "metadata": {},
   "outputs": [],
   "source": [
    "train_dataset = TensorDataset(x_train, y_train)\n",
    "train_loader = DataLoader(train_dataset, batch_size=128, shuffle=True)"
   ]
  },
  {
   "cell_type": "markdown",
   "metadata": {},
   "source": [
    "**Модели (2, 4 и 8 слоев)**"
   ]
  },
  {
   "cell_type": "code",
   "execution_count": 169,
   "metadata": {},
   "outputs": [],
   "source": [
    "class Classifier2L(nn.Module):\n",
    "    def __init__(self, input_size, layer_size, activation_func):\n",
    "        super().__init__()\n",
    "        \n",
    "        if activation_func == 'relu':\n",
    "            self.activation_func = nn.ReLU()\n",
    "        elif activation_func == 'sigmoid':\n",
    "            self.activation_func = nn.Sigmoid()\n",
    "        \n",
    "        self.fc1 = nn.Linear(input_size, layer_size)\n",
    "        self.fc2 = nn.Linear(layer_size, 1)\n",
    "\n",
    "    def forward(self, x):\n",
    "        x = self.activation_func(self.fc1(x))\n",
    "        x = torch.sigmoid(self.fc2(x))\n",
    "        return x"
   ]
  },
  {
   "cell_type": "code",
   "execution_count": 170,
   "metadata": {},
   "outputs": [],
   "source": [
    "class Classifier4L(nn.Module):\n",
    "    def __init__(self, input_size, layer_size, activation_func):\n",
    "        super().__init__()\n",
    "        \n",
    "        if activation_func == 'relu':\n",
    "            self.activation_func = nn.ReLU()\n",
    "        elif activation_func == 'sigmoid':\n",
    "            self.activation_func = nn.Sigmoid()\n",
    "        \n",
    "        self.fc1 = nn.Linear(input_size, layer_size)\n",
    "        self.fc2 = nn.Linear(layer_size, layer_size)\n",
    "        self.fc3 = nn.Linear(layer_size, layer_size)\n",
    "        self.fc4 = nn.Linear(layer_size, 1)\n",
    "\n",
    "    def forward(self, x):\n",
    "        x = self.activation_func(self.fc1(x))\n",
    "        x = self.activation_func(self.fc2(x))\n",
    "        x = self.activation_func(self.fc3(x))\n",
    "        x = torch.sigmoid(self.fc4(x))\n",
    "        return x"
   ]
  },
  {
   "cell_type": "code",
   "execution_count": 171,
   "metadata": {},
   "outputs": [],
   "source": [
    "class Classifier8L(nn.Module):\n",
    "    def __init__(self, input_size, layer_size, activation_func):\n",
    "        super().__init__()\n",
    "        \n",
    "        if activation_func == 'relu':\n",
    "            self.activation_func = nn.ReLU()\n",
    "        elif activation_func == 'sigmoid':\n",
    "            self.activation_func = nn.Sigmoid()\n",
    "        \n",
    "        self.fc1 = nn.Linear(input_size, layer_size)\n",
    "        self.fc2 = nn.Linear(layer_size, layer_size)\n",
    "        self.fc3 = nn.Linear(layer_size, layer_size)\n",
    "        self.fc4 = nn.Linear(layer_size, layer_size)\n",
    "        self.fc5 = nn.Linear(layer_size, layer_size)\n",
    "        self.fc6 = nn.Linear(layer_size, layer_size)\n",
    "        self.fc7 = nn.Linear(layer_size, layer_size)\n",
    "        self.fc8 = nn.Linear(layer_size, 1)\n",
    "\n",
    "    def forward(self, x):\n",
    "        x = self.activation_func(self.fc1(x))\n",
    "        x = self.activation_func(self.fc2(x))\n",
    "        x = self.activation_func(self.fc3(x))\n",
    "        x = self.activation_func(self.fc4(x))\n",
    "        x = self.activation_func(self.fc5(x))\n",
    "        x = self.activation_func(self.fc6(x))\n",
    "        x = self.activation_func(self.fc7(x))\n",
    "        x = torch.sigmoid(self.fc8(x))\n",
    "        return x"
   ]
  },
  {
   "cell_type": "markdown",
   "metadata": {},
   "source": [
    "**Построим первую модель**"
   ]
  },
  {
   "cell_type": "code",
   "execution_count": 172,
   "metadata": {},
   "outputs": [],
   "source": [
    "input_size = x_train.shape[1]\n",
    "first_model = Classifier2L(input_size, 32, 'relu')\n",
    "criterion = nn.BCELoss()\n",
    "optimizer = optim.Adam(first_model.parameters(), lr=0.001)"
   ]
  },
  {
   "cell_type": "code",
   "execution_count": 173,
   "metadata": {},
   "outputs": [
    {
     "name": "stdout",
     "output_type": "stream",
     "text": [
      "Train accuracy at 0: 0.4444\n"
     ]
    },
    {
     "name": "stdout",
     "output_type": "stream",
     "text": [
      "Train accuracy at 50: 0.8056\n",
      "Train accuracy at 100: 0.7500\n",
      "Train accuracy at 150: 0.7222\n",
      "Train accuracy at 200: 0.8056\n",
      "Train accuracy at 250: 0.6389\n",
      "Train accuracy at 300: 0.8611\n",
      "Train accuracy at 350: 0.7222\n",
      "Train accuracy at 400: 0.7222\n",
      "Train accuracy at 450: 0.8889\n"
     ]
    }
   ],
   "source": [
    "epochs = 500\n",
    "for epoch in range(epochs):\n",
    "    for inputs, targets in train_loader:\n",
    "        optimizer.zero_grad()\n",
    "        \n",
    "        outputs = first_model(inputs)\n",
    "        \n",
    "        loss = criterion(outputs, targets.view(-1, 1))\n",
    "        loss.backward()\n",
    "        \n",
    "        optimizer.step()\n",
    "    \n",
    "    if epoch % 50 == 0:\n",
    "        train_predictions = (outputs >= 0.5).float()\n",
    "        accuracy = (train_predictions == targets.view(-1, 1)).float().mean()\n",
    "        print(f'Train accuracy at {epoch}: {accuracy.item():.4f}')"
   ]
  },
  {
   "cell_type": "code",
   "execution_count": 174,
   "metadata": {},
   "outputs": [
    {
     "name": "stdout",
     "output_type": "stream",
     "text": [
      "Test accuracy: 0.7973\n"
     ]
    }
   ],
   "source": [
    "first_model.eval()\n",
    "with torch.no_grad():\n",
    "    test_outputs = first_model(x_test)\n",
    "    test_predictions = (test_outputs >= 0.5).float()\n",
    "    accuracy = (test_predictions == y_test.view(-1, 1)).float().mean()\n",
    "print(f'Test accuracy: {accuracy.item():.4f}')"
   ]
  },
  {
   "cell_type": "markdown",
   "metadata": {},
   "source": [
    "**Теперь найдем наиболее оптимальные гиперпараметры**"
   ]
  },
  {
   "cell_type": "code",
   "execution_count": 175,
   "metadata": {},
   "outputs": [],
   "source": [
    "epochs_nums = [10, 50, 150, 300]\n",
    "layer_sizes = [10, 32, 64]\n",
    "activation_functions = ['relu', 'sigmoid']"
   ]
  },
  {
   "cell_type": "code",
   "execution_count": 176,
   "metadata": {},
   "outputs": [],
   "source": [
    "max_accuracy = 0\n",
    "max_accuracy_params = {'layers_num': 0,\n",
    "                       'epochs': 0,\n",
    "                       'layer_size': 0,\n",
    "                       'activation_function': 0}\n",
    "\n",
    "for epochs_num in epochs_nums:\n",
    "    for layer_size in layer_sizes:\n",
    "        for activation_function in activation_functions:\n",
    "            init_max_accuracy = max_accuracy\n",
    "            # 2 слоя\n",
    "            model2l = Classifier2L(input_size, layer_size, activation_function)\n",
    "            criterion = nn.BCELoss()\n",
    "            optimizer = optim.Adam(model2l.parameters(), lr=0.001)\n",
    "            \n",
    "            for epoch in range(epochs_num):\n",
    "                for inputs, targets in train_loader:\n",
    "                    optimizer.zero_grad()\n",
    "                    \n",
    "                    outputs = model2l(inputs)\n",
    "                    \n",
    "                    loss = criterion(outputs, targets.view(-1, 1))\n",
    "                    loss.backward()\n",
    "                    \n",
    "                    optimizer.step()\n",
    "            \n",
    "            model2l.eval()\n",
    "            with torch.no_grad():\n",
    "                test_outputs = model2l(x_test)\n",
    "                test_predictions = (test_outputs >= 0.5).float()\n",
    "                accuracy = (test_predictions == y_test.view(-1, 1)).float().mean()\n",
    "            accuracy2l = accuracy\n",
    "            \n",
    "            if accuracy2l > max_accuracy:\n",
    "                max_accuracy = accuracy2l\n",
    "                max_accuracy_params['layers_num'] = 2\n",
    "            \n",
    "            # 4 слоя\n",
    "            model4l = Classifier4L(input_size, layer_size, activation_function)\n",
    "            criterion = nn.BCELoss()\n",
    "            optimizer = optim.Adam(model4l.parameters(), lr=0.001)\n",
    "            \n",
    "            for epoch in range(epochs_num):\n",
    "                for inputs, targets in train_loader:\n",
    "                    optimizer.zero_grad()\n",
    "                    \n",
    "                    outputs = model4l(inputs)\n",
    "                    \n",
    "                    loss = criterion(outputs, targets.view(-1, 1))\n",
    "                    loss.backward()\n",
    "                    \n",
    "                    optimizer.step()\n",
    "            \n",
    "            model4l.eval()\n",
    "            with torch.no_grad():\n",
    "                test_outputs = model4l(x_test)\n",
    "                test_predictions = (test_outputs >= 0.5).float()\n",
    "                accuracy = (test_predictions == y_test.view(-1, 1)).float().mean()\n",
    "            accuracy4l = accuracy\n",
    "            \n",
    "            if accuracy4l > max_accuracy:\n",
    "                max_accuracy = accuracy4l\n",
    "                max_accuracy_params['layers_num'] = 4\n",
    "            \n",
    "            # 8 слоев\n",
    "            model8l = Classifier8L(input_size, layer_size, activation_function)\n",
    "            criterion = nn.BCELoss()\n",
    "            optimizer = optim.Adam(model8l.parameters(), lr=0.001)\n",
    "            \n",
    "            for epoch in range(epochs_num):\n",
    "                for inputs, targets in train_loader:\n",
    "                    optimizer.zero_grad()\n",
    "                    \n",
    "                    outputs = model8l(inputs)\n",
    "                    \n",
    "                    loss = criterion(outputs, targets.view(-1, 1))\n",
    "                    loss.backward()\n",
    "                    \n",
    "                    optimizer.step()\n",
    "            \n",
    "            model8l.eval()\n",
    "            with torch.no_grad():\n",
    "                test_outputs = model8l(x_test)\n",
    "                test_predictions = (test_outputs >= 0.5).float()\n",
    "                accuracy = (test_predictions == y_test.view(-1, 1)).float().mean()\n",
    "            accuracy8l = accuracy\n",
    "            \n",
    "            if accuracy8l > max_accuracy:\n",
    "                max_accuracy = accuracy8l\n",
    "                max_accuracy_params['layers_num'] = 8\n",
    "            \n",
    "            if max_accuracy != init_max_accuracy:\n",
    "                max_accuracy_params['epochs'] = epochs_num\n",
    "                max_accuracy_params['layer_size'] = layer_size\n",
    "                max_accuracy_params['activation_function'] = activation_function"
   ]
  },
  {
   "cell_type": "code",
   "execution_count": 177,
   "metadata": {},
   "outputs": [
    {
     "name": "stdout",
     "output_type": "stream",
     "text": [
      "tensor(0.7973)\n",
      "{'layers_num': 4, 'epochs': 300, 'layer_size': 32, 'activation_function': 'sigmoid'}\n"
     ]
    }
   ],
   "source": [
    "print(max_accuracy)\n",
    "print(max_accuracy_params)"
   ]
  },
  {
   "cell_type": "code",
   "execution_count": 178,
   "metadata": {},
   "outputs": [],
   "source": [
    "mse_max_accuracy = 0\n",
    "mse_max_accuracy_params = {'layers_num': 0,\n",
    "                           'epochs': 0,\n",
    "                           'layer_size': 0,\n",
    "                           'activation_function': 0}\n",
    "\n",
    "for epochs_num in epochs_nums:\n",
    "    for layer_size in layer_sizes:\n",
    "        for activation_function in activation_functions:\n",
    "            init_max_accuracy = mse_max_accuracy\n",
    "            # 2 слоя\n",
    "            model2l = Classifier2L(input_size, layer_size, activation_function)\n",
    "            criterion = nn.MSELoss()\n",
    "            optimizer = optim.Adam(model2l.parameters(), lr=0.001)\n",
    "            \n",
    "            for epoch in range(epochs_num):\n",
    "                for inputs, targets in train_loader:\n",
    "                    optimizer.zero_grad()\n",
    "                    \n",
    "                    outputs = model2l(inputs)\n",
    "                    \n",
    "                    loss = criterion(outputs, targets.view(-1, 1))\n",
    "                    loss.backward()\n",
    "                    \n",
    "                    optimizer.step()\n",
    "            \n",
    "            model2l.eval()\n",
    "            with torch.no_grad():\n",
    "                test_outputs = model2l(x_test)\n",
    "                test_predictions = (test_outputs >= 0.5).float()\n",
    "                accuracy = (test_predictions == y_test.view(-1, 1)).float().mean()\n",
    "            accuracy2l = accuracy\n",
    "            \n",
    "            if accuracy2l > mse_max_accuracy:\n",
    "                mse_max_accuracy = accuracy2l\n",
    "                mse_max_accuracy_params['layers_num'] = 2\n",
    "            \n",
    "            # 4 слоя\n",
    "            model4l = Classifier4L(input_size, layer_size, activation_function)\n",
    "            criterion = nn.MSELoss()\n",
    "            optimizer = optim.Adam(model4l.parameters(), lr=0.001)\n",
    "            \n",
    "            for epoch in range(epochs_num):\n",
    "                for inputs, targets in train_loader:\n",
    "                    optimizer.zero_grad()\n",
    "                    \n",
    "                    outputs = model4l(inputs)\n",
    "                    \n",
    "                    loss = criterion(outputs, targets.view(-1, 1))\n",
    "                    loss.backward()\n",
    "                    \n",
    "                    optimizer.step()\n",
    "            \n",
    "            model4l.eval()\n",
    "            with torch.no_grad():\n",
    "                test_outputs = model4l(x_test)\n",
    "                test_predictions = (test_outputs >= 0.5).float()\n",
    "                accuracy = (test_predictions == y_test.view(-1, 1)).float().mean()\n",
    "            accuracy4l = accuracy\n",
    "            \n",
    "            if accuracy4l > mse_max_accuracy:\n",
    "                mse_max_accuracy = accuracy4l\n",
    "                mse_max_accuracy_params['layers_num'] = 4\n",
    "            \n",
    "            # 8 слоев\n",
    "            model8l = Classifier8L(input_size, layer_size, activation_function)\n",
    "            criterion = nn.MSELoss()\n",
    "            optimizer = optim.Adam(model8l.parameters(), lr=0.001)\n",
    "            \n",
    "            for epoch in range(epochs_num):\n",
    "                for inputs, targets in train_loader:\n",
    "                    optimizer.zero_grad()\n",
    "                    \n",
    "                    outputs = model8l(inputs)\n",
    "                    \n",
    "                    loss = criterion(outputs, targets.view(-1, 1))\n",
    "                    loss.backward()\n",
    "                    \n",
    "                    optimizer.step()\n",
    "            \n",
    "            model8l.eval()\n",
    "            with torch.no_grad():\n",
    "                test_outputs = model8l(x_test)\n",
    "                test_predictions = (test_outputs >= 0.5).float()\n",
    "                accuracy = (test_predictions == y_test.view(-1, 1)).float().mean()\n",
    "            accuracy8l = accuracy\n",
    "            \n",
    "            if accuracy8l > mse_max_accuracy:\n",
    "                mse_max_accuracy = accuracy8l\n",
    "                mse_max_accuracy_params['layers_num'] = 8\n",
    "            \n",
    "            if mse_max_accuracy != init_max_accuracy:\n",
    "                mse_max_accuracy_params['epochs'] = epochs_num\n",
    "                mse_max_accuracy_params['layer_size'] = layer_size\n",
    "                mse_max_accuracy_params['activation_function'] = activation_function"
   ]
  },
  {
   "cell_type": "code",
   "execution_count": 181,
   "metadata": {},
   "outputs": [
    {
     "name": "stdout",
     "output_type": "stream",
     "text": [
      "tensor(0.8018)\n",
      "{'layers_num': 2, 'epochs': 300, 'layer_size': 64, 'activation_function': 'sigmoid'}\n"
     ]
    }
   ],
   "source": [
    "print(mse_max_accuracy)\n",
    "print(mse_max_accuracy_params)"
   ]
  },
  {
   "cell_type": "code",
   "execution_count": 184,
   "metadata": {},
   "outputs": [
    {
     "name": "stdout",
     "output_type": "stream",
     "text": [
      "0.7866868381240545\n"
     ]
    }
   ],
   "source": [
    "xgb_model = xgb.XGBClassifier(n_estimators=100)\n",
    "xgb_model.fit(x_train, y_train)\n",
    "xgb_prediction = xgb_model.predict(x_test)\n",
    "xgb_accuracy = accuracy_score(y_test, xgb_prediction)\n",
    "\n",
    "print(xgb_accuracy)"
   ]
  }
 ],
 "metadata": {
  "kernelspec": {
   "display_name": "Python 3",
   "language": "python",
   "name": "python3"
  },
  "language_info": {
   "codemirror_mode": {
    "name": "ipython",
    "version": 3
   },
   "file_extension": ".py",
   "mimetype": "text/x-python",
   "name": "python",
   "nbconvert_exporter": "python",
   "pygments_lexer": "ipython3",
   "version": "3.11.5"
  }
 },
 "nbformat": 4,
 "nbformat_minor": 2
}
