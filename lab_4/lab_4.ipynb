{
 "cells": [
  {
   "cell_type": "markdown",
   "metadata": {},
   "source": [
    "**Импорты**"
   ]
  },
  {
   "cell_type": "code",
   "execution_count": 152,
   "metadata": {},
   "outputs": [],
   "source": [
    "import numpy as np\n",
    "import pandas as pd\n",
    "import matplotlib.pyplot as plt\n",
    "\n",
    "from sklearn.preprocessing import LabelEncoder, StandardScaler, OneHotEncoder, TargetEncoder\n",
    "from sklearn.model_selection import train_test_split\n",
    "from sklearn.metrics import accuracy_score, f1_score\n",
    "from sklearn.linear_model import LinearRegression\n",
    "from sklearn.decomposition import PCA\n",
    "\n",
    "import xgboost as xgb"
   ]
  },
  {
   "cell_type": "markdown",
   "metadata": {},
   "source": [
    "**Загружаем датасет, смотрим признаки**"
   ]
  },
  {
   "cell_type": "code",
   "execution_count": 126,
   "metadata": {},
   "outputs": [
    {
     "name": "stdout",
     "output_type": "stream",
     "text": [
      "Index(['PassengerId', 'HomePlanet', 'CryoSleep', 'Cabin', 'Destination', 'Age',\n",
      "       'VIP', 'RoomService', 'FoodCourt', 'ShoppingMall', 'Spa', 'VRDeck',\n",
      "       'Name', 'Transported'],\n",
      "      dtype='object')\n"
     ]
    }
   ],
   "source": [
    "data = pd.read_csv('spaceship_titanic.csv').dropna()\n",
    "data = data.reset_index(drop=True)\n",
    "print(data.columns)"
   ]
  },
  {
   "cell_type": "markdown",
   "metadata": {},
   "source": [
    "**Нормализуем численные и убираем категориальные признаки**"
   ]
  },
  {
   "cell_type": "code",
   "execution_count": 127,
   "metadata": {},
   "outputs": [
    {
     "name": "stdout",
     "output_type": "stream",
     "text": [
      "           Age  RoomService  FoodCourt  ShoppingMall       Spa    VRDeck  \\\n",
      "0     0.695413    -0.345756  -0.285355     -0.309494 -0.273759 -0.269534   \n",
      "1    -0.336769    -0.176748  -0.279993     -0.266112  0.206165 -0.230494   \n",
      "2     2.002842    -0.279083   1.845163     -0.309494  5.596357 -0.226058   \n",
      "3     0.282540    -0.345756   0.479034      0.334285  2.636384 -0.098291   \n",
      "4    -0.887266     0.124056  -0.243650     -0.047470  0.220152 -0.267759   \n",
      "...        ...          ...        ...           ...       ...       ...   \n",
      "6601  0.833037    -0.345756   3.777285     -0.309494  1.162518 -0.203876   \n",
      "6602 -0.749641    -0.345756  -0.285355     -0.309494 -0.273759 -0.269534   \n",
      "6603 -0.199145    -0.345756  -0.285355      2.938900 -0.272885 -0.269534   \n",
      "6604  0.213728    -0.345756   0.339621     -0.309494  0.034826  2.600774   \n",
      "6605  1.039473    -0.150389   2.507673     -0.309494 -0.273759 -0.258887   \n",
      "\n",
      "      Transported  \n",
      "0               0  \n",
      "1               1  \n",
      "2               0  \n",
      "3               0  \n",
      "4               1  \n",
      "...           ...  \n",
      "6601            0  \n",
      "6602            0  \n",
      "6603            1  \n",
      "6604            0  \n",
      "6605            1  \n",
      "\n",
      "[6606 rows x 7 columns]\n"
     ]
    }
   ],
   "source": [
    "data = data.drop(['PassengerId', 'Name'], axis=1)\n",
    "\n",
    "categorical_features = ['HomePlanet', 'CryoSleep', 'Cabin', \n",
    "                        'Destination', 'VIP']\n",
    "numeric_features = ['Age', 'RoomService', 'FoodCourt', \n",
    "                    'ShoppingMall', 'Spa', 'VRDeck']\n",
    "\n",
    "data[numeric_features] = data[numeric_features].astype(float)\n",
    "data['Transported'] = LabelEncoder().fit_transform(data['Transported'])\n",
    "\n",
    "# Числовые признаки\n",
    "scaler = StandardScaler()\n",
    "data[numeric_features] = scaler.fit_transform(data[numeric_features])\n",
    "\n",
    "# Уберем категориальные признаки\n",
    "data_no_category = data.drop(categorical_features, axis=1)\n",
    "\n",
    "print(data_no_category)"
   ]
  },
  {
   "cell_type": "markdown",
   "metadata": {},
   "source": [
    "**Разделим данные на train и test**"
   ]
  },
  {
   "cell_type": "code",
   "execution_count": 128,
   "metadata": {},
   "outputs": [],
   "source": [
    "x_no_category = data_no_category.drop(['Transported'], axis=1)\n",
    "y_no_category = data_no_category['Transported']\n",
    "\n",
    "x_no_category_train, x_no_category_test, y_no_category_train, y_no_category_test = train_test_split(\n",
    "    x_no_category, y_no_category, test_size=0.2, random_state=1\n",
    ")"
   ]
  },
  {
   "cell_type": "markdown",
   "metadata": {},
   "source": [
    "**Построим модель линейной регрессии**"
   ]
  },
  {
   "cell_type": "code",
   "execution_count": 129,
   "metadata": {},
   "outputs": [],
   "source": [
    "linear_regression = LinearRegression()\n",
    "linear_regression.fit(x_no_category_train, y_no_category_train)\n",
    "\n",
    "predict_no_category = linear_regression.predict(x_no_category_test)"
   ]
  },
  {
   "cell_type": "markdown",
   "metadata": {},
   "source": [
    "**Попробуем оценить точность**"
   ]
  },
  {
   "cell_type": "code",
   "execution_count": 130,
   "metadata": {},
   "outputs": [
    {
     "name": "stdout",
     "output_type": "stream",
     "text": [
      "\"Accuracy\":  0.7708018154311649\n"
     ]
    }
   ],
   "source": [
    "all_cases = x_no_category_test.shape[0]\n",
    "true_predict_cases = 0\n",
    "for true, predict in zip(y_no_category_test, predict_no_category):\n",
    "    if true == 1 and predict > 0.54:\n",
    "        true_predict_cases += 1\n",
    "    if true == 0 and predict <= 0.54:\n",
    "        true_predict_cases += 1\n",
    "\n",
    "print('\"Accuracy\": ', true_predict_cases / all_cases)"
   ]
  },
  {
   "cell_type": "markdown",
   "metadata": {},
   "source": [
    "**Построим модель бустинга**"
   ]
  },
  {
   "cell_type": "code",
   "execution_count": 131,
   "metadata": {},
   "outputs": [
    {
     "name": "stdout",
     "output_type": "stream",
     "text": [
      "Accuracy: 0.7987897125567323\n"
     ]
    }
   ],
   "source": [
    "xgb_model = xgb.XGBClassifier(n_estimators=7, max_depth=4)\n",
    "xgb_model.fit(x_no_category_train, y_no_category_train)\n",
    "\n",
    "predict = xgb_model.predict(x_no_category_test)\n",
    "\n",
    "print('Accuracy: {}'.format(accuracy_score(y_no_category_test, predict)))"
   ]
  },
  {
   "cell_type": "markdown",
   "metadata": {},
   "source": [
    "**Теперь применим One Hot и Target encoding'и**"
   ]
  },
  {
   "cell_type": "code",
   "execution_count": 132,
   "metadata": {},
   "outputs": [
    {
     "name": "stdout",
     "output_type": "stream",
     "text": [
      "           Age  RoomService  FoodCourt  ShoppingMall       Spa    VRDeck  \\\n",
      "0     0.695413    -0.345756  -0.285355     -0.309494 -0.273759 -0.269534   \n",
      "1    -0.336769    -0.176748  -0.279993     -0.266112  0.206165 -0.230494   \n",
      "2     2.002842    -0.279083   1.845163     -0.309494  5.596357 -0.226058   \n",
      "3     0.282540    -0.345756   0.479034      0.334285  2.636384 -0.098291   \n",
      "4    -0.887266     0.124056  -0.243650     -0.047470  0.220152 -0.267759   \n",
      "...        ...          ...        ...           ...       ...       ...   \n",
      "6601  0.833037    -0.345756   3.777285     -0.309494  1.162518 -0.203876   \n",
      "6602 -0.749641    -0.345756  -0.285355     -0.309494 -0.273759 -0.269534   \n",
      "6603 -0.199145    -0.345756  -0.285355      2.938900 -0.272885 -0.269534   \n",
      "6604  0.213728    -0.345756   0.339621     -0.309494  0.034826  2.600774   \n",
      "6605  1.039473    -0.150389   2.507673     -0.309494 -0.273759 -0.258887   \n",
      "\n",
      "      Transported    0    1    2  ...  5305  5306  5307  5308  5309  5310  \\\n",
      "0               0  0.0  1.0  0.0  ...   0.0   0.0   0.0   0.0   0.0   0.0   \n",
      "1               1  1.0  0.0  0.0  ...   0.0   0.0   0.0   0.0   0.0   0.0   \n",
      "2               0  0.0  1.0  0.0  ...   0.0   0.0   0.0   0.0   0.0   0.0   \n",
      "3               0  0.0  1.0  0.0  ...   0.0   0.0   0.0   0.0   0.0   0.0   \n",
      "4               1  1.0  0.0  0.0  ...   0.0   0.0   0.0   0.0   0.0   0.0   \n",
      "...           ...  ...  ...  ...  ...   ...   ...   ...   ...   ...   ...   \n",
      "6601            0  0.0  1.0  0.0  ...   0.0   0.0   0.0   0.0   0.0   1.0   \n",
      "6602            0  1.0  0.0  0.0  ...   0.0   0.0   0.0   0.0   0.0   0.0   \n",
      "6603            1  1.0  0.0  0.0  ...   0.0   0.0   0.0   0.0   0.0   0.0   \n",
      "6604            0  0.0  1.0  0.0  ...   0.0   0.0   0.0   0.0   0.0   1.0   \n",
      "6605            1  0.0  1.0  0.0  ...   0.0   0.0   0.0   0.0   0.0   0.0   \n",
      "\n",
      "      5311  5312  5313  5314  \n",
      "0      0.0   1.0   1.0   0.0  \n",
      "1      0.0   1.0   1.0   0.0  \n",
      "2      0.0   1.0   0.0   1.0  \n",
      "3      0.0   1.0   1.0   0.0  \n",
      "4      0.0   1.0   1.0   0.0  \n",
      "...    ...   ...   ...   ...  \n",
      "6601   0.0   0.0   0.0   1.0  \n",
      "6602   1.0   0.0   1.0   0.0  \n",
      "6603   0.0   1.0   1.0   0.0  \n",
      "6604   0.0   0.0   1.0   0.0  \n",
      "6605   0.0   1.0   1.0   0.0  \n",
      "\n",
      "[6606 rows x 5322 columns]\n"
     ]
    }
   ],
   "source": [
    "onehot_enc = OneHotEncoder()\n",
    "\n",
    "data_onehot = data.copy()\n",
    "data_onehot[categorical_features] = data_onehot[categorical_features].astype('category')\n",
    "for feature in categorical_features:\n",
    "    data_onehot[feature] = data_onehot[feature].cat.codes\n",
    "onehot_encoded_data = pd.DataFrame(onehot_enc.fit_transform(data_onehot[categorical_features]).toarray())\n",
    "data_onehot = data_onehot.drop(categorical_features, axis=1)\n",
    "data_onehot = data_onehot.join(onehot_encoded_data)\n",
    "\n",
    "print(data_onehot)"
   ]
  },
  {
   "cell_type": "code",
   "execution_count": 138,
   "metadata": {},
   "outputs": [
    {
     "name": "stdout",
     "output_type": "stream",
     "text": [
      "      HomePlanet  CryoSleep  Cabin  Destination       Age       VIP  \\\n",
      "0       0.659892   0.332709    0.0     0.466783  0.695413  0.506983   \n",
      "1       0.425687   0.332709    1.0     0.466783 -0.336769  0.506983   \n",
      "2       0.659892   0.332709    0.0     0.466783  2.002842  0.370370   \n",
      "3       0.659892   0.332709    0.0     0.466783  0.282540  0.506983   \n",
      "4       0.425687   0.332709    1.0     0.466783 -0.887266  0.506983   \n",
      "...          ...        ...    ...          ...       ...       ...   \n",
      "6601    0.659892   0.332709    0.0     0.622601  0.833037  0.370370   \n",
      "6602    0.425687   0.816895    0.0     0.505618 -0.749641  0.506983   \n",
      "6603    0.425687   0.332709    1.0     0.466783 -0.199145  0.506983   \n",
      "6604    0.659892   0.332709    0.5     0.622601  0.213728  0.506983   \n",
      "6605    0.659892   0.332709    0.5     0.466783  1.039473  0.506983   \n",
      "\n",
      "      RoomService  FoodCourt  ShoppingMall       Spa    VRDeck  Transported  \n",
      "0       -0.345756  -0.285355     -0.309494 -0.273759 -0.269534            0  \n",
      "1       -0.176748  -0.279993     -0.266112  0.206165 -0.230494            1  \n",
      "2       -0.279083   1.845163     -0.309494  5.596357 -0.226058            0  \n",
      "3       -0.345756   0.479034      0.334285  2.636384 -0.098291            0  \n",
      "4        0.124056  -0.243650     -0.047470  0.220152 -0.267759            1  \n",
      "...           ...        ...           ...       ...       ...          ...  \n",
      "6601    -0.345756   3.777285     -0.309494  1.162518 -0.203876            0  \n",
      "6602    -0.345756  -0.285355     -0.309494 -0.273759 -0.269534            0  \n",
      "6603    -0.345756  -0.285355      2.938900 -0.272885 -0.269534            1  \n",
      "6604    -0.345756   0.339621     -0.309494  0.034826  2.600774            0  \n",
      "6605    -0.150389   2.507673     -0.309494 -0.273759 -0.258887            1  \n",
      "\n",
      "[6606 rows x 12 columns]\n"
     ]
    }
   ],
   "source": [
    "data_target = data.copy()\n",
    "\n",
    "for feature in categorical_features:\n",
    "    for unique_value in data_target[feature].unique():\n",
    "        data_target[feature].mask(data_target[feature] == unique_value,\n",
    "                                  data_target.loc[data_target[feature] == unique_value, 'Transported'].mean(),\n",
    "                                  inplace=True)\n",
    "    data_target[feature] = data_target[feature].astype(float)\n",
    "\n",
    "print(data_target)"
   ]
  },
  {
   "cell_type": "code",
   "execution_count": 146,
   "metadata": {},
   "outputs": [],
   "source": [
    "x_onehot = data_onehot.drop(['Transported'], axis=1)\n",
    "y_onehot = data_onehot['Transported']\n",
    "\n",
    "x_onehot_train, x_onehot_test, y_onehot_train, y_onehot_test = train_test_split(\n",
    "    x_onehot, y_onehot, test_size=0.2, random_state=1\n",
    ")\n",
    "\n",
    "x_target = data_target.drop(['Transported'], axis=1)\n",
    "x_target[categorical_features] = x_target[categorical_features].astype(float)\n",
    "y_target = data_target['Transported']\n",
    "\n",
    "x_target_train, x_target_test, y_target_train, y_target_test = train_test_split(\n",
    "    x_target, y_target, test_size=0.2, random_state=1\n",
    ")"
   ]
  },
  {
   "cell_type": "code",
   "execution_count": 151,
   "metadata": {},
   "outputs": [
    {
     "name": "stdout",
     "output_type": "stream",
     "text": [
      "Accuracy (onehot): 0.8034310221586848\n",
      "Accuracy (target): 0.9653647752394989\n"
     ]
    }
   ],
   "source": [
    "xgb_model_onehot = xgb.XGBClassifier(n_estimators=7, max_depth=4)\n",
    "xgb_model_target = xgb.XGBClassifier(n_estimators=7, max_depth=4)\n",
    "\n",
    "xgb_model_onehot.fit(x_onehot_train, y_onehot_train)\n",
    "xgb_model_target.fit(x_target_train, y_target_train)\n",
    "\n",
    "predict_onehot = xgb_model_onehot.predict(x_onehot_test)\n",
    "predict_target = xgb_model_target.predict(x_target_test)\n",
    "\n",
    "print('Accuracy (onehot): {}'.format(f1_score(y_onehot_test, predict_onehot)))\n",
    "print('Accuracy (target): {}'.format(f1_score(y_target_test, predict_target)))"
   ]
  },
  {
   "cell_type": "code",
   "execution_count": 166,
   "metadata": {},
   "outputs": [
    {
     "data": {
      "image/png": "[encoded data removed]",
      "text/plain": [
       "<Figure size 600x600 with 1 Axes>"
      ]
     },
     "metadata": {},
     "output_type": "display_data"
    }
   ],
   "source": [
    "pca = PCA(n_components=2)\n",
    "data_pca = pca.fit_transform(data_target)\n",
    "colors = data_target['Transported'].tolist()\n",
    "\n",
    "plt.figure(figsize=(6, 6))\n",
    "plt.scatter(data_pca[:, 0], data_pca[:, 1], s=1, c=colors)\n",
    "\n",
    "plt.show()"
   ]
  }
 ],
 "metadata": {
  "kernelspec": {
   "display_name": "Python 3",
   "language": "python",
   "name": "python3"
  },
  "language_info": {
   "codemirror_mode": {
    "name": "ipython",
    "version": 3
   },
   "file_extension": ".py",
   "mimetype": "text/x-python",
   "name": "python",
   "nbconvert_exporter": "python",
   "pygments_lexer": "ipython3",
   "version": "3.11.5"
  }
 },
 "nbformat": 4,
 "nbformat_minor": 2
}
